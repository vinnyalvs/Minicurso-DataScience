{
  "nbformat": 4,
  "nbformat_minor": 0,
  "metadata": {
    "colab": {
      "name": "Minicurso.ipynb",
      "provenance": []
    },
    "kernelspec": {
      "name": "python3",
      "display_name": "Python 3"
    }
  },
  "cells": [
    {
      "cell_type": "markdown",
      "metadata": {
        "id": "E4gt1q3d2sRt"
      },
      "source": [
        "# Olá, esse arquivo vai conter links para diversas informações importantes do minicurso.\n",
        "\n",
        "## A ideia é que vocês tenham um material para consultar durante a apresentação, mas não fiquem com receio de interromper e perguntar.\n",
        "\n",
        "### Contato:\n",
        "\n",
        " * Vinicius Alves: viniciusalves@ice.ufjf.br\n",
        " * Viniman: vinicius.oliveira@ice.ufjf.br  "
      ]
    },
    {
      "cell_type": "markdown",
      "metadata": {
        "id": "VAkau69z_Ft4"
      },
      "source": [
        "# Google Colab: \n",
        "https://colab.research.google.com/notebooks/intro.ipynb"
      ]
    },
    {
      "cell_type": "markdown",
      "metadata": {
        "id": "sbRFBqCLTUrE"
      },
      "source": [
        "# Como Instalar o Anaconda\n",
        "\n",
        "https://minerandodados.com.br/instalar-python-anaconda/"
      ]
    },
    {
      "cell_type": "markdown",
      "metadata": {
        "id": "bheWevtQ_KZ4"
      },
      "source": [
        "# Material de Acompanhamento: \n",
        "\n",
        "## Dia 1 - Biblioteca Pandas\n",
        "Apresentação:\n",
        "\n",
        "https://docs.google.com/presentation/d/1pCdEe7gusEzfqozcTCH42WsIUUdBNTYG7UBCXl0dBEo/edit?usp=sharing\n",
        "\n",
        "\n",
        "Notebook de acompanhamento:\n",
        "\n",
        "https://colab.research.google.com/drive/1-9Y02AOs3odt365IeOKROLR6eej_IyiV?usp=sharing\n",
        "\n",
        "## Dia 2 - Biblioteca Seaborn\n",
        "\n",
        "https://colab.research.google.com/drive/1hGgIkLIY6X-GRnPWsfJNpgeISCDFBDhG?usp=sharing\n",
        "\n",
        "## Dia 3 - Bilioteca SK_Learn\n",
        "\n",
        "https://colab.research.google.com/drive/1sGOxx5VHfwNijcU1HLuM9Mx8hcek4GUT?usp=sharing "
      ]
    },
    {
      "cell_type": "markdown",
      "metadata": {
        "id": "H1xqynw2BzbW"
      },
      "source": [
        "# Repositório no Github\n",
        "\n",
        "Neste repositorio: https://github.com/vinnyalvs/Minicurso-DataScience\n",
        "\n",
        "Estão localizados os datasets que serão utilizados. No futuro serão adicionados os notebook jupyter"
      ]
    },
    {
      "cell_type": "markdown",
      "metadata": {
        "id": "GmV1FSIpBVSW"
      },
      "source": [
        "## Atenção"
      ]
    },
    {
      "cell_type": "markdown",
      "metadata": {
        "id": "pYxB4zAqBYjO"
      },
      "source": [
        "A base do Enem fornecida para o minicurso ja é uma versão simplificada e tratada da base do ENEM 2019 fornecida pelo INEP. \n",
        "https://www.gov.br/inep/pt-br/acesso-a-informacao/dados-abertos/microdados/enem\n",
        "\n",
        "Se você for tentar ler a base de dados possivelmente tera alguns desafios. Por isso sugiro que se mantenha atento ao github pois lá será disponibilizado um exemplo de leitura dos dados"
      ]
    },
    {
      "cell_type": "markdown",
      "metadata": {
        "id": "dWTu2o8rkEpV"
      },
      "source": [
        "# Recomendação de Leitura:\n",
        "[Identificação de Desigualdades Sociais a partir do desempenho dos alunos do Ensino Médio no ENEM 2019 utilizando Mineração de Dados](https://www.researchgate.net/deref/http%3A%2F%2Fdx.doi.org%2F10.5753%2Fcbie.sbie.2020.72?_sg%5B0%5D=k3w9z5hAi97vH_9D0nkwkX_qPr1pp03xgK_uh2dbOS05nVXsynMRnIP7pIAjMAbZHhnaij9p8UkOXAESyjDpDjnlqQ.2PTu0GHXdBqB8IgmA5HE_RLkEO3nne70-dyYJVKqbM0aIUyYi-MeIM4F9vurvDOaWev008AAC9ta3kSjNMt7fQ\n",
        ")\n"
      ]
    },
    {
      "cell_type": "markdown",
      "metadata": {
        "id": "AD3-vd8TazkG"
      },
      "source": [
        "# Apostila Python\n",
        "\n",
        "## Para quem quer começar do zero:\n",
        "https://www.caelum.com.br/apostila/apostila-python-orientacao-a-objetos.pdf\n",
        "\n",
        "## Para quem já sabe programar, um resumo: \n",
        "https://www.ufjf.br/deptocomputacao/files/2010/08/apresentacao.pdf"
      ]
    },
    {
      "cell_type": "markdown",
      "metadata": {
        "id": "REjiFuWLUVMk"
      },
      "source": [
        "# Estatística Descritiva:\n",
        "\n",
        "A Análise Descritiva é a fase inicial deste processo de estudo dos dados coletados. \n",
        "\n",
        "Utilizamos métodos de Estatística Descritiva para organizar, resumir e descrever os aspectos importantes de\n",
        "um conjunto de características observadas ou comparar tais características entre dois ou mais\n",
        "conjuntos\n",
        "\n",
        "## Onde Aprender mais sobre estatística: \n",
        "\n",
        "\n",
        "*   [Apostila UFMG](http://www.est.ufmg.br/portal/arquivos/rts/rte0202.pdf)\n",
        "*   [Slides UFJF](https://www.ufjf.br/introducaoestatistica/files/2019/04/3_cap%c3%adtulo1.pdf\n",
        ")\n"
      ]
    },
    {
      "cell_type": "markdown",
      "metadata": {
        "id": "2i9UgmNG_vUZ"
      },
      "source": [
        "# Aprendizado de Máquina\n",
        "\n",
        "Um livro muito bom para consulta pode ser encontrado [aqui](https://drive.google.com/file/d/1dukWM6pRG1-4vgP35UJB1keGH_SSDKtM/view?usp=sharing):\n",
        "\n",
        "Este livro, é um guia de referência para todas as coisas que vamos ver no curso. O autor explica de forma pontual e modular cada tópico e é um bom passo para extender o conhecimento e reforçar o que foi visto. \n",
        "\n",
        "Especialmente, ele traz explicações um pouco mais aprofundadas sobre o funcionamento dos algoritmos de aprendizado de máquina.\n"
      ]
    },
    {
      "cell_type": "markdown",
      "metadata": {
        "id": "PZ5GH9mAAxGw"
      },
      "source": [
        "# Após o termino do Minicurso: Para Onde ir?\n",
        "\n",
        "Quais os próximos passos que podem ser dados depois do minicurso? \n",
        "\n",
        "O INEP tem uma [página](https://www.gov.br/inep/pt-br/acesso-a-informacao/dados-abertos/microdados) com diversas bases de dados que podem ser exploradas. Que tal baixar uma outra base e tentar repetir os processos?"
      ]
    }
  ]
}